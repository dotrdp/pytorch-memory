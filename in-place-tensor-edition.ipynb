{
  "nbformat": 4,
  "nbformat_minor": 0,
  "metadata": {
    "colab": {
      "provenance": [],
      "authorship_tag": "ABX9TyPcM/pOOMq+7nWSXIQjHN8d"
    },
    "kernelspec": {
      "name": "python3",
      "display_name": "Python 3"
    },
    "language_info": {
      "name": "python"
    }
  },
  "cells": [
    {
      "cell_type": "code",
      "execution_count": 2,
      "metadata": {
        "id": "YNKntYYnA7Xh"
      },
      "outputs": [],
      "source": [
        "%%capture\n",
        "!pip install torch==2.0.0 torchvision==0.15.1 d2l==1.0.3"
      ]
    },
    {
      "cell_type": "code",
      "source": [
        "import torch\n",
        "\n",
        "tensor = torch.arange(12, dtype=torch.float32).reshape(6,-1)\n",
        "tensor2 = torch.ones(10).reshape(5,-1)\n",
        "tensor2 = torch.exp(tensor2)\n",
        "torch.cat((tensor, tensor2), dim=1)"
      ],
      "metadata": {
        "id": "YOZChvT0BfoE"
      },
      "execution_count": null,
      "outputs": []
    }
  ]
}