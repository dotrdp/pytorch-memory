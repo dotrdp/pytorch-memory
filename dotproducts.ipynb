{
  "nbformat": 4,
  "nbformat_minor": 0,
  "metadata": {
    "colab": {
      "provenance": [],
      "authorship_tag": "ABX9TyPhVAhBvyMMi+6tjXlWhcHH"
    },
    "kernelspec": {
      "name": "python3",
      "display_name": "Python 3"
    },
    "language_info": {
      "name": "python"
    }
  },
  "cells": [
    {
      "cell_type": "code",
      "execution_count": 17,
      "metadata": {
        "colab": {
          "base_uri": "https://localhost:8080/"
        },
        "id": "sIwp2ETAZlYm",
        "outputId": "20873eb9-0a74-453e-9488-4630d06f11c0"
      },
      "outputs": [
        {
          "output_type": "execute_result",
          "data": {
            "text/plain": [
              "(tensor([ 70., 190., 310.]), tensor([ 70., 190., 310.]))"
            ]
          },
          "metadata": {},
          "execution_count": 17
        }
      ],
      "source": [
        "import torch\n",
        "\n",
        "vector = torch.arange(4, dtype=torch.float32)\n",
        "tensor2 = torch.tensor([5*i for i in range(12)], dtype=torch.float32).reshape((3, 4))\n",
        "#tensor2 is a matrix\n",
        "product = torch.tensor([torch.sum(xi.reshape(xi.shape[0])*vector) for xi in tensor2])\n",
        "product == tensor2@vector"
      ]
    }
  ]
}
